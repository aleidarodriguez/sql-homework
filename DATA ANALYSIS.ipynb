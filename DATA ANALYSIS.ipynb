{
 "cells": [
  {
   "cell_type": "code",
   "execution_count": null,
   "metadata": {},
   "outputs": [],
   "source": [
    "# Data Analysis of Credit Card Transactions"
   ]
  },
  {
   "cell_type": "code",
   "execution_count": null,
   "metadata": {},
   "outputs": [],
   "source": [
    "## How can you isolate (or group) the transactions of each cardholder?"
   ]
  },
  {
   "cell_type": "code",
   "execution_count": null,
   "metadata": {},
   "outputs": [],
   "source": [
    "SELECT cc.cardholder_id, t.id, t.date, t.amount, t.card, t.id_merchant\n",
    "FROM transaction t JOIN credit_card cc\n",
    "ON (t.card = cc.card) AND (cc.cardholder_id = 2)\n",
    "ORDER BY cc.cardholder_id, t.date;"
   ]
  },
  {
   "cell_type": "code",
   "execution_count": null,
   "metadata": {},
   "outputs": [],
   "source": [
    "## Consider the time period 7:00 a.m. to 9:00 a.m."
   ]
  },
  {
   "cell_type": "code",
   "execution_count": null,
   "metadata": {},
   "outputs": [],
   "source": [
    "### What are the top 100 highest transactions during this time period?"
   ]
  },
  {
   "cell_type": "code",
   "execution_count": null,
   "metadata": {},
   "outputs": [],
   "source": [
    "SELECT cc.cardholder_id, t.id, t.date, t.amount, t.card, t.id_merchant\n",
    "FROM transaction t JOIN credit_card cc\n",
    "ON (t.card = cc.card)\n",
    "WHERE (extract(hour from t.date) >=7) AND (extract(hour from t.date) <=9)\n",
    "ORDER BY t.amount DESC LIMIT 100; "
   ]
  },
  {
   "cell_type": "code",
   "execution_count": null,
   "metadata": {},
   "outputs": [],
   "source": [
    "### Do you see any fraudulent or anomalous transactions?"
   ]
  },
  {
   "cell_type": "code",
   "execution_count": null,
   "metadata": {},
   "outputs": [],
   "source": []
  },
  {
   "cell_type": "code",
   "execution_count": null,
   "metadata": {},
   "outputs": [],
   "source": [
    "## Some fraudsters hack a credit card by making several small payments (generally less than $2.00), which are typically ignored by cardholders. Count the transactions that are less than $2.00 per cardholder. Is there any evidence to suggest that a credit card has been hacked? Explain your rationale."
   ]
  },
  {
   "cell_type": "code",
   "execution_count": null,
   "metadata": {},
   "outputs": [],
   "source": [
    "SELECT cc.cardholder_id, count(t.id)\n",
    "FROM transaction t JOIN credit_card cc\n",
    "ON (t.card = cc.card)\n",
    "WHERE t.amount <2\n",
    "GROUP BY cc.cardholder_id\n",
    "ORDER BY cc.cardholder_id; "
   ]
  },
  {
   "cell_type": "code",
   "execution_count": null,
   "metadata": {},
   "outputs": [],
   "source": [
    "## What are the top 5 merchants prone to being hacked using small transactions?"
   ]
  },
  {
   "cell_type": "code",
   "execution_count": null,
   "metadata": {},
   "outputs": [],
   "source": [
    "SELECT id_merchant, count(id)\n",
    "FROM transaction\n",
    "WHERE amount < 2 \n",
    "GROUP BY id_merchant \n",
    "ORDER BY count(id) DESC LIMIT 5; "
   ]
  },
  {
   "cell_type": "code",
   "execution_count": null,
   "metadata": {},
   "outputs": [],
   "source": [
    "## Once you have a query that can be reused, create a view for each of the previous queries."
   ]
  },
  {
   "cell_type": "code",
   "execution_count": null,
   "metadata": {},
   "outputs": [],
   "source": [
    "CREATE VIEW card_holders_transactions AS\n",
    "SELECT cc.cardholder_id, t.id, t.date, t.amount, t.card, t.id_merchant\n",
    "FROM transaction t JOIN credit_card cc\n",
    "ON (t.card = cc.card)\n",
    "ORDER BY cc.cardholder_id, t.date; "
   ]
  },
  {
   "cell_type": "code",
   "execution_count": null,
   "metadata": {},
   "outputs": [],
   "source": [
    "## Verify if there are any fraudulent transactions in the history of two of the most important customers of the firm. For privacy reasons, you only know that their cardholders' IDs are 18 and 2."
   ]
  },
  {
   "cell_type": "code",
   "execution_count": null,
   "metadata": {},
   "outputs": [],
   "source": []
  }
 ],
 "metadata": {
  "kernelspec": {
   "display_name": "Python 3",
   "language": "python",
   "name": "python3"
  },
  "language_info": {
   "codemirror_mode": {
    "name": "ipython",
    "version": 3
   },
   "file_extension": ".py",
   "mimetype": "text/x-python",
   "name": "python",
   "nbconvert_exporter": "python",
   "pygments_lexer": "ipython3",
   "version": "3.7.4"
  }
 },
 "nbformat": 4,
 "nbformat_minor": 4
}
